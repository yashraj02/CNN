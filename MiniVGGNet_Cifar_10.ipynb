{
  "nbformat": 4,
  "nbformat_minor": 0,
  "metadata": {
    "colab": {
      "name": "MiniVGGNet_Cifar-10.ipynb",
      "provenance": [],
      "mount_file_id": "1WUeA4ZO7WXGow7z_5F1LnE0FRXoJHwKu",
      "authorship_tag": "ABX9TyNpulcSMQXDzFTnspefSs7x",
      "include_colab_link": true
    },
    "kernelspec": {
      "name": "python3",
      "display_name": "Python 3"
    },
    "accelerator": "GPU"
  },
  "cells": [
    {
      "cell_type": "markdown",
      "metadata": {
        "id": "view-in-github",
        "colab_type": "text"
      },
      "source": [
        "<a href=\"https://colab.research.google.com/github/yashraj02/CNN-Animals_Classification/blob/master/MiniVGGNet_Cifar_10.ipynb\" target=\"_parent\"><img src=\"https://colab.research.google.com/assets/colab-badge.svg\" alt=\"Open In Colab\"/></a>"
      ]
    },
    {
      "cell_type": "code",
      "metadata": {
        "id": "WWZUmhuviv8r",
        "colab_type": "code",
        "colab": {}
      },
      "source": [
        "import numpy as np\n",
        "from keras.datasets import cifar10\n",
        "from sklearn.preprocessing import LabelBinarizer\n",
        "from keras.models import Sequential\n",
        "from keras.layers import Conv2D,MaxPool2D,Dropout,Activation,Flatten,BatchNormalization,Dense\n",
        "from keras.optimizers import SGD\n",
        "from sklearn.metrics import classification_report"
      ],
      "execution_count": 0,
      "outputs": []
    },
    {
      "cell_type": "code",
      "metadata": {
        "id": "kuxvZlOTvmS7",
        "colab_type": "code",
        "colab": {}
      },
      "source": [
        "(x_train, y_train), (x_test, y_test) = cifar10.load_data()"
      ],
      "execution_count": 0,
      "outputs": []
    },
    {
      "cell_type": "code",
      "metadata": {
        "id": "ZImcAc3lwd22",
        "colab_type": "code",
        "colab": {}
      },
      "source": [
        "x_train = x_train.astype('float')/255.0\n",
        "x_test = x_test.astype('float')/255.0"
      ],
      "execution_count": 0,
      "outputs": []
    },
    {
      "cell_type": "code",
      "metadata": {
        "id": "vnB6UincwiTY",
        "colab_type": "code",
        "colab": {}
      },
      "source": [
        "lb = LabelBinarizer()\n",
        "y_train = lb.fit_transform(y_train)\n",
        "y_test = lb.fit_transform(y_test)"
      ],
      "execution_count": 0,
      "outputs": []
    },
    {
      "cell_type": "code",
      "metadata": {
        "id": "_txjseqfB1Ma",
        "colab_type": "code",
        "colab": {}
      },
      "source": [
        "# miniVGGNet without BatchNormalization\n",
        "def miniVGGNet(width,height,depth,classes):\n",
        "  model = tf.keras.models.Sequential()\n",
        "  \n",
        "  model.add(tf.keras.layers.Conv2D(32,(3,3),input_shape=(height,width,depth), activation='relu'))\n",
        "  model.add(tf.keras.layers.Conv2D(32,(3,3),activation='relu'))\n",
        "  model.add(tf.keras.layers.MaxPool2D(2,2))\n",
        "  model.add(tf.keras.layers.Dropout(0.25))\n",
        "\n",
        "  model.add(tf.keras.layers.Conv2D(64,(3,3),activation='relu'))\n",
        "  model.add(tf.keras.layers.Conv2D(64,(3,3),activation='relu'))\n",
        "  model.add(tf.keras.layers.MaxPool2D(2,2))\n",
        "  model.add(tf.keras.layers.Dropout(0.25))\n",
        "  model.add(tf.keras.layers.Flatten())\n",
        "\n",
        "  model.add(tf.keras.layers.Dense(512))\n",
        "  model.add(tf.keras.layers.Activation(\"relu\"))\n",
        "  model.add(tf.keras.layers.Dropout(0.5))\n",
        "\n",
        "  model.add(tf.keras.layers.Dense(classes))\n",
        "  model.add(tf.keras.layers.Activation('softmax'))\n",
        "\n",
        "  return model"
      ],
      "execution_count": 0,
      "outputs": []
    },
    {
      "cell_type": "code",
      "metadata": {
        "id": "b6F9CKEoxTRD",
        "colab_type": "code",
        "colab": {}
      },
      "source": [
        "# miniVGGNet_BN using BatchNormalization\n",
        "def miniVGGNet_BN(width,height,depth,classes):\n",
        "  model = tf.keras.models.Sequential()\n",
        "  \n",
        "  model.add(tf.keras.layers.Conv2D(32,(3,3),input_shape=(height,width,depth), activation='relu'))\n",
        "  model.add(tf.keras.layers.BatchNormalization(axis=-1))\n",
        "  model.add(tf.keras.layers.Conv2D(32,(3,3),activation='relu'))\n",
        "  model.add(tf.keras.layers.BatchNormalization(axis=-1))\n",
        "  model.add(tf.keras.layers.MaxPool2D(2,2))\n",
        "  model.add(tf.keras.layers.Dropout(0.25))\n",
        "\n",
        "  model.add(tf.keras.layers.Conv2D(64,(3,3),activation='relu'))\n",
        "  model.add(tf.keras.layers.BatchNormalization(axis=-1))\n",
        "  model.add(tf.keras.layers.Conv2D(64,(3,3),activation='relu'))\n",
        "  model.add(tf.keras.layers.BatchNormalization(axis=-1))\n",
        "  model.add(tf.keras.layers.MaxPool2D(2,2))\n",
        "  model.add(tf.keras.layers.Dropout(0.25))\n",
        "  model.add(tf.keras.layers.Flatten())\n",
        "\n",
        "  model.add(tf.keras.layers.Dense(512))\n",
        "  model.add(tf.keras.layers.Activation(\"relu\"))\n",
        "  model.add(tf.keras.layers.BatchNormalization(axis=-1))\n",
        "  model.add(tf.keras.layers.Dropout(0.5))\n",
        "\n",
        "  model.add(tf.keras.layers.Dense(classes))\n",
        "  model.add(tf.keras.layers.Activation('softmax'))\n",
        "\n",
        "  return model"
      ],
      "execution_count": 0,
      "outputs": []
    },
    {
      "cell_type": "code",
      "metadata": {
        "id": "rU6cP1zsQzu-",
        "colab_type": "code",
        "colab": {
          "base_uri": "https://localhost:8080/",
          "height": 33
        },
        "outputId": "5ba14253-3da9-4e84-b4f7-1120ba464c5b"
      },
      "source": [
        "print(x_train.shape,y_train.shape)"
      ],
      "execution_count": 27,
      "outputs": [
        {
          "output_type": "stream",
          "text": [
            "(50000, 32, 32, 3) (50000, 10)\n"
          ],
          "name": "stdout"
        }
      ]
    },
    {
      "cell_type": "code",
      "metadata": {
        "id": "Ch4msN7q3Ee0",
        "colab_type": "code",
        "colab": {
          "base_uri": "https://localhost:8080/",
          "height": 1000
        },
        "outputId": "477c4cd1-cfe3-41be-b253-c22e6bd72ebb"
      },
      "source": [
        "print(\"[INFO] training without BatchNormalization..\")\n",
        "model1 = miniVGGNet(32,32,3,10)\n",
        "opti = tf.keras.optimizers.SGD(learning_rate=0.01, decay=0.01/40, momentum=0.9, nesterov=True)\n",
        "print(\"[INFO] compiling model1 network..\")\n",
        "model1.compile(loss=\"categorical_crossentropy\", optimizer=opti, metrics=['accuracy'])\n",
        "non_bn_model = model1.fit(x_train,y_train,batch_size=32,epochs=40,verbose=1,validation_data=(x_test,y_test))"
      ],
      "execution_count": 43,
      "outputs": [
        {
          "output_type": "stream",
          "text": [
            "[INFO] training without BatchNormalization..\n",
            "[INFO] compiling model1 network..\n",
            "Epoch 1/40\n",
            "1563/1563 [==============================] - 7s 4ms/step - loss: 1.7892 - accuracy: 0.3379 - val_loss: 1.4448 - val_accuracy: 0.4838\n",
            "Epoch 2/40\n",
            "1563/1563 [==============================] - 7s 4ms/step - loss: 1.3483 - accuracy: 0.5128 - val_loss: 1.1672 - val_accuracy: 0.5871\n",
            "Epoch 3/40\n",
            "1563/1563 [==============================] - 7s 4ms/step - loss: 1.1822 - accuracy: 0.5792 - val_loss: 1.0294 - val_accuracy: 0.6366\n",
            "Epoch 4/40\n",
            "1563/1563 [==============================] - 7s 4ms/step - loss: 1.0707 - accuracy: 0.6197 - val_loss: 0.9439 - val_accuracy: 0.6664\n",
            "Epoch 5/40\n",
            "1563/1563 [==============================] - 7s 4ms/step - loss: 0.9815 - accuracy: 0.6536 - val_loss: 0.8772 - val_accuracy: 0.6974\n",
            "Epoch 6/40\n",
            "1563/1563 [==============================] - 7s 4ms/step - loss: 0.9117 - accuracy: 0.6779 - val_loss: 0.8292 - val_accuracy: 0.7132\n",
            "Epoch 7/40\n",
            "1563/1563 [==============================] - 7s 4ms/step - loss: 0.8654 - accuracy: 0.6950 - val_loss: 0.7883 - val_accuracy: 0.7259\n",
            "Epoch 8/40\n",
            "1563/1563 [==============================] - 7s 4ms/step - loss: 0.8211 - accuracy: 0.7111 - val_loss: 0.7831 - val_accuracy: 0.7292\n",
            "Epoch 9/40\n",
            "1563/1563 [==============================] - 7s 4ms/step - loss: 0.7891 - accuracy: 0.7216 - val_loss: 0.7319 - val_accuracy: 0.7428\n",
            "Epoch 10/40\n",
            "1563/1563 [==============================] - 7s 4ms/step - loss: 0.7557 - accuracy: 0.7338 - val_loss: 0.7412 - val_accuracy: 0.7414\n",
            "Epoch 11/40\n",
            "1563/1563 [==============================] - 7s 4ms/step - loss: 0.7284 - accuracy: 0.7424 - val_loss: 0.7221 - val_accuracy: 0.7515\n",
            "Epoch 12/40\n",
            "1563/1563 [==============================] - 7s 4ms/step - loss: 0.7088 - accuracy: 0.7504 - val_loss: 0.6922 - val_accuracy: 0.7621\n",
            "Epoch 13/40\n",
            "1563/1563 [==============================] - 7s 4ms/step - loss: 0.6935 - accuracy: 0.7541 - val_loss: 0.6811 - val_accuracy: 0.7638\n",
            "Epoch 14/40\n",
            "1563/1563 [==============================] - 7s 4ms/step - loss: 0.6737 - accuracy: 0.7629 - val_loss: 0.6692 - val_accuracy: 0.7670\n",
            "Epoch 15/40\n",
            "1563/1563 [==============================] - 7s 4ms/step - loss: 0.6538 - accuracy: 0.7687 - val_loss: 0.6656 - val_accuracy: 0.7721\n",
            "Epoch 16/40\n",
            "1563/1563 [==============================] - 7s 4ms/step - loss: 0.6395 - accuracy: 0.7738 - val_loss: 0.6618 - val_accuracy: 0.7695\n",
            "Epoch 17/40\n",
            "1563/1563 [==============================] - 7s 4ms/step - loss: 0.6287 - accuracy: 0.7772 - val_loss: 0.6349 - val_accuracy: 0.7835\n",
            "Epoch 18/40\n",
            "1563/1563 [==============================] - 7s 4ms/step - loss: 0.6137 - accuracy: 0.7827 - val_loss: 0.6522 - val_accuracy: 0.7763\n",
            "Epoch 19/40\n",
            "1563/1563 [==============================] - 7s 4ms/step - loss: 0.6016 - accuracy: 0.7851 - val_loss: 0.6256 - val_accuracy: 0.7832\n",
            "Epoch 20/40\n",
            "1563/1563 [==============================] - 7s 4ms/step - loss: 0.5913 - accuracy: 0.7911 - val_loss: 0.6275 - val_accuracy: 0.7849\n",
            "Epoch 21/40\n",
            "1563/1563 [==============================] - 7s 4ms/step - loss: 0.5810 - accuracy: 0.7944 - val_loss: 0.6394 - val_accuracy: 0.7803\n",
            "Epoch 22/40\n",
            "1563/1563 [==============================] - 7s 4ms/step - loss: 0.5707 - accuracy: 0.7977 - val_loss: 0.6176 - val_accuracy: 0.7894\n",
            "Epoch 23/40\n",
            "1563/1563 [==============================] - 7s 4ms/step - loss: 0.5570 - accuracy: 0.8020 - val_loss: 0.6189 - val_accuracy: 0.7859\n",
            "Epoch 24/40\n",
            "1563/1563 [==============================] - 7s 4ms/step - loss: 0.5541 - accuracy: 0.8045 - val_loss: 0.6161 - val_accuracy: 0.7909\n",
            "Epoch 25/40\n",
            "1563/1563 [==============================] - 7s 4ms/step - loss: 0.5450 - accuracy: 0.8074 - val_loss: 0.6052 - val_accuracy: 0.7919\n",
            "Epoch 26/40\n",
            "1563/1563 [==============================] - 7s 4ms/step - loss: 0.5430 - accuracy: 0.8064 - val_loss: 0.6185 - val_accuracy: 0.7884\n",
            "Epoch 27/40\n",
            "1563/1563 [==============================] - 7s 4ms/step - loss: 0.5301 - accuracy: 0.8118 - val_loss: 0.6082 - val_accuracy: 0.7904\n",
            "Epoch 28/40\n",
            "1563/1563 [==============================] - 7s 4ms/step - loss: 0.5234 - accuracy: 0.8143 - val_loss: 0.6067 - val_accuracy: 0.7932\n",
            "Epoch 29/40\n",
            "1563/1563 [==============================] - 7s 4ms/step - loss: 0.5192 - accuracy: 0.8147 - val_loss: 0.6011 - val_accuracy: 0.7947\n",
            "Epoch 30/40\n",
            "1563/1563 [==============================] - 7s 4ms/step - loss: 0.5116 - accuracy: 0.8182 - val_loss: 0.5997 - val_accuracy: 0.7942\n",
            "Epoch 31/40\n",
            "1563/1563 [==============================] - 7s 4ms/step - loss: 0.5026 - accuracy: 0.8208 - val_loss: 0.6057 - val_accuracy: 0.7951\n",
            "Epoch 32/40\n",
            "1563/1563 [==============================] - 7s 4ms/step - loss: 0.5005 - accuracy: 0.8212 - val_loss: 0.6072 - val_accuracy: 0.7943\n",
            "Epoch 33/40\n",
            "1563/1563 [==============================] - 7s 4ms/step - loss: 0.4951 - accuracy: 0.8229 - val_loss: 0.5944 - val_accuracy: 0.7965\n",
            "Epoch 34/40\n",
            "1563/1563 [==============================] - 7s 5ms/step - loss: 0.4854 - accuracy: 0.8272 - val_loss: 0.5952 - val_accuracy: 0.8016\n",
            "Epoch 35/40\n",
            "1563/1563 [==============================] - 7s 5ms/step - loss: 0.4785 - accuracy: 0.8297 - val_loss: 0.5972 - val_accuracy: 0.7972\n",
            "Epoch 36/40\n",
            "1563/1563 [==============================] - 7s 4ms/step - loss: 0.4793 - accuracy: 0.8299 - val_loss: 0.5870 - val_accuracy: 0.8007\n",
            "Epoch 37/40\n",
            "1563/1563 [==============================] - 7s 4ms/step - loss: 0.4699 - accuracy: 0.8314 - val_loss: 0.5890 - val_accuracy: 0.8001\n",
            "Epoch 38/40\n",
            "1563/1563 [==============================] - 7s 4ms/step - loss: 0.4668 - accuracy: 0.8327 - val_loss: 0.5851 - val_accuracy: 0.8010\n",
            "Epoch 39/40\n",
            "1563/1563 [==============================] - 7s 4ms/step - loss: 0.4621 - accuracy: 0.8361 - val_loss: 0.5767 - val_accuracy: 0.8029\n",
            "Epoch 40/40\n",
            "1563/1563 [==============================] - 7s 4ms/step - loss: 0.4595 - accuracy: 0.8363 - val_loss: 0.5803 - val_accuracy: 0.8014\n"
          ],
          "name": "stdout"
        }
      ]
    },
    {
      "cell_type": "code",
      "metadata": {
        "id": "rpkRyvPi5ygi",
        "colab_type": "code",
        "colab": {
          "base_uri": "https://localhost:8080/",
          "height": 300
        },
        "outputId": "6418f4a3-f574-4d87-f34b-2a6af62ccb94"
      },
      "source": [
        "predictions = model1.predict(x_test,batch_size=64)\n",
        "labelNames = [\"airplane\", \"automobile\", \"bird\", \"cat\", \"deer\", \"dog\", \"frog\", \"horse\", \"ship\", \"truck\"]\n",
        "print(classification_report(y_test.argmax(axis=1),predictions.argmax(axis=1),target_names=labelNames))"
      ],
      "execution_count": 29,
      "outputs": [
        {
          "output_type": "stream",
          "text": [
            "              precision    recall  f1-score   support\n",
            "\n",
            "    airplane       0.83      0.82      0.83      1000\n",
            "  automobile       0.91      0.90      0.90      1000\n",
            "        bird       0.76      0.66      0.71      1000\n",
            "         cat       0.67      0.62      0.64      1000\n",
            "        deer       0.75      0.80      0.77      1000\n",
            "         dog       0.70      0.75      0.73      1000\n",
            "        frog       0.81      0.88      0.85      1000\n",
            "       horse       0.86      0.83      0.84      1000\n",
            "        ship       0.88      0.89      0.88      1000\n",
            "       truck       0.87      0.89      0.88      1000\n",
            "\n",
            "    accuracy                           0.80     10000\n",
            "   macro avg       0.80      0.80      0.80     10000\n",
            "weighted avg       0.80      0.80      0.80     10000\n",
            "\n"
          ],
          "name": "stdout"
        }
      ]
    },
    {
      "cell_type": "code",
      "metadata": {
        "id": "v4Pc28psETGv",
        "colab_type": "code",
        "colab": {
          "base_uri": "https://localhost:8080/",
          "height": 316
        },
        "outputId": "95e025c6-3b4e-4120-8c03-d4d3be65f37a"
      },
      "source": [
        "from matplotlib import pyplot as plt\n",
        "# plot the training loss and accuracy\n",
        "plt.style.use(\"ggplot\")\n",
        "plt.figure()\n",
        "plt.plot(np.arange(0, 40), non_bn_model.history[\"loss\"], label=\"train_loss\")\n",
        "plt.plot(np.arange(0, 40), non_bn_model.history[\"val_loss\"], label=\"val_loss\")\n",
        "plt.plot(np.arange(0, 40), non_bn_model.history[\"accuracy\"], label=\"train_acc\")\n",
        "plt.plot(np.arange(0, 40), non_bn_model.history[\"val_accuracy\"], label=\"val_acc\")\n",
        "plt.title(\"Training Loss and Accuracy on CIFAR-10\")\n",
        "plt.xlabel(\"Epoch #\")\n",
        "plt.ylabel(\"Loss/Accuracy\")\n",
        "plt.legend()"
      ],
      "execution_count": 49,
      "outputs": [
        {
          "output_type": "execute_result",
          "data": {
            "text/plain": [
              "<matplotlib.legend.Legend at 0x7ff43add77b8>"
            ]
          },
          "metadata": {
            "tags": []
          },
          "execution_count": 49
        },
        {
          "output_type": "display_data",
          "data": {
            "image/png": "[encoded data removed]",
            "text/plain": [
              "<Figure size 432x288 with 1 Axes>"
            ]
          },
          "metadata": {
            "tags": []
          }
        }
      ]
    },
    {
      "cell_type": "code",
      "metadata": {
        "id": "xqxRVsx_EgWL",
        "colab_type": "code",
        "colab": {}
      },
      "source": [
        ""
      ],
      "execution_count": 0,
      "outputs": []
    },
    {
      "cell_type": "code",
      "metadata": {
        "id": "tBAUkLsND9RR",
        "colab_type": "code",
        "colab": {
          "base_uri": "https://localhost:8080/",
          "height": 1000
        },
        "outputId": "f94ec2db-c45f-4909-a983-3157eedce294"
      },
      "source": [
        "print(\"[INFO] training with BatchNormalization..\")\n",
        "model2 = miniVGGNet_BN(32,32,3,10)\n",
        "opti2 = tf.keras.optimizers.SGD(learning_rate=0.01, decay=0.01/40, momentum=0.9, nesterov=True)\n",
        "print(\"[INFO] compiling network..\")\n",
        "model2.compile(loss=\"categorical_crossentropy\", optimizer = opti2, metrics=['accuracy'])\n",
        "bn_model = model2.fit(x_train,y_train,batch_size=32,epochs=40,verbose=1,validation_data=(x_test,y_test))"
      ],
      "execution_count": 44,
      "outputs": [
        {
          "output_type": "stream",
          "text": [
            "[INFO] training with BatchNormalization..\n",
            "[INFO] compiling network..\n",
            "Epoch 1/40\n",
            "1563/1563 [==============================] - 8s 5ms/step - loss: 1.9634 - accuracy: 0.3882 - val_loss: 1.4994 - val_accuracy: 0.4804\n",
            "Epoch 2/40\n",
            "1563/1563 [==============================] - 8s 5ms/step - loss: 1.3289 - accuracy: 0.5426 - val_loss: 1.1799 - val_accuracy: 0.5867\n",
            "Epoch 3/40\n",
            "1563/1563 [==============================] - 8s 5ms/step - loss: 1.0840 - accuracy: 0.6187 - val_loss: 0.8828 - val_accuracy: 0.6883\n",
            "Epoch 4/40\n",
            "1563/1563 [==============================] - 8s 5ms/step - loss: 0.9634 - accuracy: 0.6613 - val_loss: 0.8434 - val_accuracy: 0.6987\n",
            "Epoch 5/40\n",
            "1563/1563 [==============================] - 8s 5ms/step - loss: 0.8909 - accuracy: 0.6866 - val_loss: 0.7834 - val_accuracy: 0.7231\n",
            "Epoch 6/40\n",
            "1563/1563 [==============================] - 8s 5ms/step - loss: 0.8405 - accuracy: 0.7040 - val_loss: 0.7546 - val_accuracy: 0.7277\n",
            "Epoch 7/40\n",
            "1563/1563 [==============================] - 8s 5ms/step - loss: 0.7993 - accuracy: 0.7193 - val_loss: 0.7229 - val_accuracy: 0.7417\n",
            "Epoch 8/40\n",
            "1563/1563 [==============================] - 8s 5ms/step - loss: 0.7669 - accuracy: 0.7327 - val_loss: 0.6885 - val_accuracy: 0.7550\n",
            "Epoch 9/40\n",
            "1563/1563 [==============================] - 8s 5ms/step - loss: 0.7447 - accuracy: 0.7367 - val_loss: 0.6754 - val_accuracy: 0.7637\n",
            "Epoch 10/40\n",
            "1563/1563 [==============================] - 8s 5ms/step - loss: 0.7177 - accuracy: 0.7473 - val_loss: 0.6628 - val_accuracy: 0.7657\n",
            "Epoch 11/40\n",
            "1563/1563 [==============================] - 8s 5ms/step - loss: 0.7036 - accuracy: 0.7522 - val_loss: 0.6468 - val_accuracy: 0.7707\n",
            "Epoch 12/40\n",
            "1563/1563 [==============================] - 8s 5ms/step - loss: 0.6879 - accuracy: 0.7591 - val_loss: 0.6350 - val_accuracy: 0.7731\n",
            "Epoch 13/40\n",
            "1563/1563 [==============================] - 8s 5ms/step - loss: 0.6642 - accuracy: 0.7648 - val_loss: 0.6482 - val_accuracy: 0.7707\n",
            "Epoch 14/40\n",
            "1563/1563 [==============================] - 8s 5ms/step - loss: 0.6552 - accuracy: 0.7696 - val_loss: 0.6238 - val_accuracy: 0.7789\n",
            "Epoch 15/40\n",
            "1563/1563 [==============================] - 8s 5ms/step - loss: 0.6445 - accuracy: 0.7723 - val_loss: 0.6205 - val_accuracy: 0.7846\n",
            "Epoch 16/40\n",
            "1563/1563 [==============================] - 8s 5ms/step - loss: 0.6282 - accuracy: 0.7788 - val_loss: 0.6015 - val_accuracy: 0.7891\n",
            "Epoch 17/40\n",
            "1563/1563 [==============================] - 8s 5ms/step - loss: 0.6202 - accuracy: 0.7829 - val_loss: 0.6148 - val_accuracy: 0.7850\n",
            "Epoch 18/40\n",
            "1563/1563 [==============================] - 8s 5ms/step - loss: 0.6124 - accuracy: 0.7845 - val_loss: 0.6145 - val_accuracy: 0.7848\n",
            "Epoch 19/40\n",
            "1563/1563 [==============================] - 8s 5ms/step - loss: 0.5999 - accuracy: 0.7887 - val_loss: 0.5878 - val_accuracy: 0.7932\n",
            "Epoch 20/40\n",
            "1563/1563 [==============================] - 8s 5ms/step - loss: 0.5927 - accuracy: 0.7918 - val_loss: 0.5882 - val_accuracy: 0.7866\n",
            "Epoch 21/40\n",
            "1563/1563 [==============================] - 8s 5ms/step - loss: 0.5828 - accuracy: 0.7948 - val_loss: 0.5882 - val_accuracy: 0.7921\n",
            "Epoch 22/40\n",
            "1563/1563 [==============================] - 8s 5ms/step - loss: 0.5787 - accuracy: 0.7963 - val_loss: 0.5928 - val_accuracy: 0.7913\n",
            "Epoch 23/40\n",
            "1563/1563 [==============================] - 8s 5ms/step - loss: 0.5699 - accuracy: 0.7993 - val_loss: 0.5884 - val_accuracy: 0.7908\n",
            "Epoch 24/40\n",
            "1563/1563 [==============================] - 8s 5ms/step - loss: 0.5605 - accuracy: 0.8041 - val_loss: 0.5799 - val_accuracy: 0.7974\n",
            "Epoch 25/40\n",
            "1563/1563 [==============================] - 8s 5ms/step - loss: 0.5603 - accuracy: 0.8031 - val_loss: 0.5717 - val_accuracy: 0.8014\n",
            "Epoch 26/40\n",
            "1563/1563 [==============================] - 8s 5ms/step - loss: 0.5504 - accuracy: 0.8048 - val_loss: 0.5656 - val_accuracy: 0.8017\n",
            "Epoch 27/40\n",
            "1563/1563 [==============================] - 8s 5ms/step - loss: 0.5459 - accuracy: 0.8078 - val_loss: 0.5716 - val_accuracy: 0.7972\n",
            "Epoch 28/40\n",
            "1563/1563 [==============================] - 8s 5ms/step - loss: 0.5364 - accuracy: 0.8127 - val_loss: 0.5699 - val_accuracy: 0.7978\n",
            "Epoch 29/40\n",
            "1563/1563 [==============================] - 8s 5ms/step - loss: 0.5287 - accuracy: 0.8146 - val_loss: 0.5695 - val_accuracy: 0.8009\n",
            "Epoch 30/40\n",
            "1563/1563 [==============================] - 8s 5ms/step - loss: 0.5291 - accuracy: 0.8119 - val_loss: 0.5630 - val_accuracy: 0.8041\n",
            "Epoch 31/40\n",
            "1563/1563 [==============================] - 8s 5ms/step - loss: 0.5289 - accuracy: 0.8151 - val_loss: 0.5775 - val_accuracy: 0.7971\n",
            "Epoch 32/40\n",
            "1563/1563 [==============================] - 8s 5ms/step - loss: 0.5229 - accuracy: 0.8139 - val_loss: 0.5622 - val_accuracy: 0.8036\n",
            "Epoch 33/40\n",
            "1563/1563 [==============================] - 9s 5ms/step - loss: 0.5172 - accuracy: 0.8181 - val_loss: 0.5571 - val_accuracy: 0.8038\n",
            "Epoch 34/40\n",
            "1563/1563 [==============================] - 8s 5ms/step - loss: 0.5105 - accuracy: 0.8190 - val_loss: 0.5645 - val_accuracy: 0.8016\n",
            "Epoch 35/40\n",
            "1563/1563 [==============================] - 8s 5ms/step - loss: 0.5098 - accuracy: 0.8210 - val_loss: 0.5548 - val_accuracy: 0.8064\n",
            "Epoch 36/40\n",
            "1563/1563 [==============================] - 8s 5ms/step - loss: 0.5065 - accuracy: 0.8217 - val_loss: 0.5656 - val_accuracy: 0.8026\n",
            "Epoch 37/40\n",
            "1563/1563 [==============================] - 8s 5ms/step - loss: 0.4962 - accuracy: 0.8245 - val_loss: 0.5478 - val_accuracy: 0.8078\n",
            "Epoch 38/40\n",
            "1563/1563 [==============================] - 8s 5ms/step - loss: 0.4975 - accuracy: 0.8253 - val_loss: 0.5527 - val_accuracy: 0.8080\n",
            "Epoch 39/40\n",
            "1563/1563 [==============================] - 8s 5ms/step - loss: 0.4855 - accuracy: 0.8296 - val_loss: 0.5544 - val_accuracy: 0.8037\n",
            "Epoch 40/40\n",
            "1563/1563 [==============================] - 8s 5ms/step - loss: 0.4875 - accuracy: 0.8274 - val_loss: 0.5539 - val_accuracy: 0.8063\n"
          ],
          "name": "stdout"
        }
      ]
    },
    {
      "cell_type": "code",
      "metadata": {
        "id": "aBImxHxdD4hZ",
        "colab_type": "code",
        "colab": {
          "base_uri": "https://localhost:8080/",
          "height": 300
        },
        "outputId": "e97306ef-8d15-4086-bfa7-c817b6a7b253"
      },
      "source": [
        "predictions_BN = model2.predict(x_test,batch_size=64)\n",
        "labelNames = [\"airplane\", \"automobile\", \"bird\", \"cat\", \"deer\", \"dog\", \"frog\", \"horse\", \"ship\", \"truck\"]\n",
        "print(classification_report(y_test.argmax(axis=1),predictions_BN.argmax(axis=1),target_names=labelNames))"
      ],
      "execution_count": 45,
      "outputs": [
        {
          "output_type": "stream",
          "text": [
            "              precision    recall  f1-score   support\n",
            "\n",
            "    airplane       0.85      0.82      0.83      1000\n",
            "  automobile       0.93      0.89      0.91      1000\n",
            "        bird       0.76      0.66      0.71      1000\n",
            "         cat       0.68      0.60      0.64      1000\n",
            "        deer       0.75      0.80      0.77      1000\n",
            "         dog       0.73      0.72      0.72      1000\n",
            "        frog       0.77      0.91      0.83      1000\n",
            "       horse       0.84      0.85      0.85      1000\n",
            "        ship       0.89      0.91      0.90      1000\n",
            "       truck       0.86      0.91      0.89      1000\n",
            "\n",
            "    accuracy                           0.81     10000\n",
            "   macro avg       0.81      0.81      0.80     10000\n",
            "weighted avg       0.81      0.81      0.80     10000\n",
            "\n"
          ],
          "name": "stdout"
        }
      ]
    },
    {
      "cell_type": "code",
      "metadata": {
        "id": "g2Wbsh6a6X1j",
        "colab_type": "code",
        "colab": {
          "base_uri": "https://localhost:8080/",
          "height": 316
        },
        "outputId": "c066a5b4-3beb-4053-e629-9ab9b51db937"
      },
      "source": [
        "from matplotlib import pyplot as plt\n",
        "# plot the training loss and accuracy\n",
        "plt.style.use(\"ggplot\")\n",
        "plt.figure()\n",
        "plt.plot(np.arange(0, 40), bn_model.history[\"loss\"], label=\"train_loss\")\n",
        "plt.plot(np.arange(0, 40), bn_model.history[\"val_loss\"], label=\"val_loss\")\n",
        "plt.plot(np.arange(0, 40), bn_model.history[\"accuracy\"], label=\"train_acc\")\n",
        "plt.plot(np.arange(0, 40), bn_model.history[\"val_accuracy\"], label=\"val_acc\")\n",
        "plt.title(\"Training Loss and Accuracy on CIFAR-10\")\n",
        "plt.xlabel(\"Epoch #\")\n",
        "plt.ylabel(\"Loss/Accuracy\")\n",
        "plt.legend()"
      ],
      "execution_count": 48,
      "outputs": [
        {
          "output_type": "execute_result",
          "data": {
            "text/plain": [
              "<matplotlib.legend.Legend at 0x7ff460289e10>"
            ]
          },
          "metadata": {
            "tags": []
          },
          "execution_count": 48
        },
        {
          "output_type": "display_data",
          "data": {
            "image/png": "[encoded data removed]",
            "text/plain": [
              "<Figure size 432x288 with 1 Axes>"
            ]
          },
          "metadata": {
            "tags": []
          }
        }
      ]
    },
    {
      "cell_type": "markdown",
      "metadata": {
        "id": "jCwvUMnJVJJI",
        "colab_type": "text"
      },
      "source": [
        "Notice how the loss for MiniVGGNet without batch normalization starts to increase past epoch\n",
        "30, indicating that the network is overfitting to the training data. We can also clearly see that\n",
        "validation accuracy has become quite saturated by epoch 25.\n",
        "On the other hand, the MiniVGGNet implementation with batch normalization is more stable.\n",
        "While both loss and accuracy start to flatline past epoch 35, we aren’t overfitting as badly."
      ]
    }
  ]
}