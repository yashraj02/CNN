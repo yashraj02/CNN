{
  "nbformat": 4,
  "nbformat_minor": 0,
  "metadata": {
    "colab": {
      "name": "MNIST_LeNet.ipynb",
      "provenance": [],
      "collapsed_sections": [],
      "mount_file_id": "1OPpQ3LnaKjjEg9DekxwfC7Smlpz0z4MH",
      "authorship_tag": "ABX9TyMb4h+UmYUJZrv4LcCU7Lx6",
      "include_colab_link": true
    },
    "kernelspec": {
      "name": "python3",
      "display_name": "Python 3"
    }
  },
  "cells": [
    {
      "cell_type": "markdown",
      "metadata": {
        "id": "view-in-github",
        "colab_type": "text"
      },
      "source": [
        "<a href=\"https://colab.research.google.com/github/yashraj02/CNN-Animals_Classification/blob/master/MNIST_LeNet.ipynb\" target=\"_parent\"><img src=\"https://colab.research.google.com/assets/colab-badge.svg\" alt=\"Open In Colab\"/></a>"
      ]
    },
    {
      "cell_type": "code",
      "metadata": {
        "id": "6sLp3yXFoJel",
        "colab_type": "code",
        "colab": {}
      },
      "source": [
        "from keras.datasets import mnist\n",
        "from keras.models import Sequential\n",
        "import numpy as np\n",
        "from keras.layers import Conv2D,Activation,MaxPool2D,Flatten,Dense\n",
        "from sklearn.metrics import classification_report\n",
        "from keras.optimizers import SGD\n",
        "from sklearn.preprocessing import LabelBinarizer"
      ],
      "execution_count": 0,
      "outputs": []
    },
    {
      "cell_type": "code",
      "metadata": {
        "id": "fdVHAgXfol6M",
        "colab_type": "code",
        "colab": {}
      },
      "source": [
        "(x_train, y_train), (x_test, y_test) = mnist.load_data()"
      ],
      "execution_count": 0,
      "outputs": []
    },
    {
      "cell_type": "code",
      "metadata": {
        "id": "7Z4c9RPwpAmj",
        "colab_type": "code",
        "colab": {
          "base_uri": "https://localhost:8080/",
          "height": 83
        },
        "outputId": "a72d4c1e-8d58-4c00-80a6-9c7911af8ef7"
      },
      "source": [
        "print(x_train.shape)\n",
        "print(x_test.shape)\n",
        "print(y_train.shape)\n",
        "print(y_test.shape)"
      ],
      "execution_count": 79,
      "outputs": [
        {
          "output_type": "stream",
          "text": [
            "(60000, 28, 28)\n",
            "(10000, 28, 28)\n",
            "(60000,)\n",
            "(10000,)\n"
          ],
          "name": "stdout"
        }
      ]
    },
    {
      "cell_type": "code",
      "metadata": {
        "id": "9AONRjytpIdD",
        "colab_type": "code",
        "colab": {
          "base_uri": "https://localhost:8080/",
          "height": 33
        },
        "outputId": "c742191d-52a5-4e08-f7f2-89767ff43409"
      },
      "source": [
        "x_train = x_train[..., np.newaxis]\n",
        "print(x_train.shape)"
      ],
      "execution_count": 80,
      "outputs": [
        {
          "output_type": "stream",
          "text": [
            "(60000, 28, 28, 1)\n"
          ],
          "name": "stdout"
        }
      ]
    },
    {
      "cell_type": "code",
      "metadata": {
        "id": "2QOHwgCHImeJ",
        "colab_type": "code",
        "colab": {
          "base_uri": "https://localhost:8080/",
          "height": 33
        },
        "outputId": "22bbf271-6ce8-4c52-dc6c-5016704427f3"
      },
      "source": [
        "x_test = x_test[..., np.newaxis]\n",
        "print(x_test.shape)"
      ],
      "execution_count": 81,
      "outputs": [
        {
          "output_type": "stream",
          "text": [
            "(10000, 28, 28, 1)\n"
          ],
          "name": "stdout"
        }
      ]
    },
    {
      "cell_type": "code",
      "metadata": {
        "id": "OzQCLU3_L26N",
        "colab_type": "code",
        "colab": {
          "base_uri": "https://localhost:8080/",
          "height": 50
        },
        "outputId": "308ae22f-586c-49c2-965a-295373ef02d2"
      },
      "source": [
        "print(y_train.shape)\n",
        "print(y_test.shape)"
      ],
      "execution_count": 82,
      "outputs": [
        {
          "output_type": "stream",
          "text": [
            "(60000,)\n",
            "(10000,)\n"
          ],
          "name": "stdout"
        }
      ]
    },
    {
      "cell_type": "code",
      "metadata": {
        "id": "ANpa4zZ3OtZ0",
        "colab_type": "code",
        "colab": {}
      },
      "source": [
        "x_train = x_train.astype('float')/255.0\n",
        "x_test = x_test.astype('float')/255.0"
      ],
      "execution_count": 0,
      "outputs": []
    },
    {
      "cell_type": "code",
      "metadata": {
        "id": "mTVjT4p2O6AF",
        "colab_type": "code",
        "colab": {}
      },
      "source": [
        "lb = LabelBinarizer()\n",
        "y_train = lb.fit_transform(y_train)\n",
        "y_test = lb.fit_transform(y_test)"
      ],
      "execution_count": 0,
      "outputs": []
    },
    {
      "cell_type": "code",
      "metadata": {
        "id": "NsWoaXpkIqPL",
        "colab_type": "code",
        "colab": {}
      },
      "source": [
        "def leNet_model(width, height, channels,classes):\n",
        "  model = Sequential()\n",
        "  \n",
        "  model.add(Conv2D(20,(5,5),input_shape=(height,width,channels)))\n",
        "  model.add(Activation('relu'))\n",
        "  model.add(MaxPool2D(2,2))\n",
        "\n",
        "  model.add(Conv2D(50,(5,5)))\n",
        "  model.add(Activation('relu'))\n",
        "  model.add(MaxPool2D(2,2))\n",
        "  model.add(Flatten())\n",
        "\n",
        "  model.add(Dense(500))\n",
        "  model.add(Activation('relu'))\n",
        "\n",
        "  model.add(Dense(classes))\n",
        "  model.add(Activation('softmax'))\n",
        "\n",
        "  return model"
      ],
      "execution_count": 0,
      "outputs": []
    },
    {
      "cell_type": "code",
      "metadata": {
        "id": "QFNIYTJVKmjz",
        "colab_type": "code",
        "colab": {
          "base_uri": "https://localhost:8080/",
          "height": 717
        },
        "outputId": "1839ade5-c1eb-4513-a48c-1397aa3bf594"
      },
      "source": [
        "model = leNet_model(28,28,1,10)\n",
        "opti = SGD(lr=0.005)\n",
        "model.compile(loss=\"categorical_crossentropy\", optimizer=opti, metrics=['accuracy'])\n",
        "\n",
        "print(\"[INFO] training network...\")\n",
        "H = model.fit(x_train,y_train, validation_data=(x_test,y_test), batch_size=128, epochs=20, verbose=1)"
      ],
      "execution_count": 91,
      "outputs": [
        {
          "output_type": "stream",
          "text": [
            "[INFO] training network...\n",
            "Train on 60000 samples, validate on 10000 samples\n",
            "Epoch 1/20\n",
            "60000/60000 [==============================] - 45s 747us/step - loss: 1.5469 - accuracy: 0.6194 - val_loss: 0.5129 - val_accuracy: 0.8681\n",
            "Epoch 2/20\n",
            "60000/60000 [==============================] - 45s 747us/step - loss: 0.3938 - accuracy: 0.8888 - val_loss: 0.2933 - val_accuracy: 0.9141\n",
            "Epoch 3/20\n",
            "60000/60000 [==============================] - 44s 742us/step - loss: 0.2750 - accuracy: 0.9193 - val_loss: 0.2497 - val_accuracy: 0.9251\n",
            "Epoch 4/20\n",
            "60000/60000 [==============================] - 45s 747us/step - loss: 0.2213 - accuracy: 0.9353 - val_loss: 0.1857 - val_accuracy: 0.9460\n",
            "Epoch 5/20\n",
            "60000/60000 [==============================] - 45s 748us/step - loss: 0.1856 - accuracy: 0.9457 - val_loss: 0.1563 - val_accuracy: 0.9560\n",
            "Epoch 6/20\n",
            "60000/60000 [==============================] - 45s 746us/step - loss: 0.1612 - accuracy: 0.9523 - val_loss: 0.1340 - val_accuracy: 0.9625\n",
            "Epoch 7/20\n",
            "60000/60000 [==============================] - 50s 833us/step - loss: 0.1434 - accuracy: 0.9577 - val_loss: 0.1225 - val_accuracy: 0.9648\n",
            "Epoch 8/20\n",
            "60000/60000 [==============================] - 45s 745us/step - loss: 0.1302 - accuracy: 0.9616 - val_loss: 0.1106 - val_accuracy: 0.9673\n",
            "Epoch 9/20\n",
            "60000/60000 [==============================] - 44s 741us/step - loss: 0.1191 - accuracy: 0.9649 - val_loss: 0.1070 - val_accuracy: 0.9678\n",
            "Epoch 10/20\n",
            "60000/60000 [==============================] - 45s 742us/step - loss: 0.1100 - accuracy: 0.9672 - val_loss: 0.1047 - val_accuracy: 0.9669\n",
            "Epoch 11/20\n",
            "60000/60000 [==============================] - 45s 748us/step - loss: 0.1032 - accuracy: 0.9697 - val_loss: 0.0888 - val_accuracy: 0.9751\n",
            "Epoch 12/20\n",
            "60000/60000 [==============================] - 45s 749us/step - loss: 0.0974 - accuracy: 0.9706 - val_loss: 0.0829 - val_accuracy: 0.9754\n",
            "Epoch 13/20\n",
            "60000/60000 [==============================] - 45s 748us/step - loss: 0.0918 - accuracy: 0.9725 - val_loss: 0.0760 - val_accuracy: 0.9772\n",
            "Epoch 14/20\n",
            "60000/60000 [==============================] - 45s 745us/step - loss: 0.0871 - accuracy: 0.9736 - val_loss: 0.0717 - val_accuracy: 0.9789\n",
            "Epoch 15/20\n",
            "60000/60000 [==============================] - 45s 748us/step - loss: 0.0835 - accuracy: 0.9752 - val_loss: 0.0747 - val_accuracy: 0.9768\n",
            "Epoch 16/20\n",
            "60000/60000 [==============================] - 45s 751us/step - loss: 0.0790 - accuracy: 0.9762 - val_loss: 0.0683 - val_accuracy: 0.9793\n",
            "Epoch 17/20\n",
            "60000/60000 [==============================] - 45s 745us/step - loss: 0.0765 - accuracy: 0.9768 - val_loss: 0.0658 - val_accuracy: 0.9795\n",
            "Epoch 18/20\n",
            "60000/60000 [==============================] - 45s 742us/step - loss: 0.0727 - accuracy: 0.9779 - val_loss: 0.0629 - val_accuracy: 0.9802\n",
            "Epoch 19/20\n",
            "60000/60000 [==============================] - 45s 743us/step - loss: 0.0701 - accuracy: 0.9792 - val_loss: 0.0668 - val_accuracy: 0.9793\n",
            "Epoch 20/20\n",
            "60000/60000 [==============================] - 47s 786us/step - loss: 0.0683 - accuracy: 0.9795 - val_loss: 0.0574 - val_accuracy: 0.9828\n"
          ],
          "name": "stdout"
        }
      ]
    },
    {
      "cell_type": "code",
      "metadata": {
        "id": "EOpS2nAPNcL8",
        "colab_type": "code",
        "colab": {
          "base_uri": "https://localhost:8080/",
          "height": 300
        },
        "outputId": "e87eeb27-e16d-477d-8049-6d765e2c9970"
      },
      "source": [
        "predictions = model.predict(x_test,batch_size=128)\n",
        "print(classification_report(y_test.argmax(axis=1),predictions.argmax(axis=1),target_names=[str(x) for x in lb.classes_]))"
      ],
      "execution_count": 96,
      "outputs": [
        {
          "output_type": "stream",
          "text": [
            "              precision    recall  f1-score   support\n",
            "\n",
            "           0       0.98      0.99      0.99       980\n",
            "           1       0.99      0.99      0.99      1135\n",
            "           2       0.98      0.98      0.98      1032\n",
            "           3       0.98      0.98      0.98      1010\n",
            "           4       0.98      0.99      0.99       982\n",
            "           5       0.98      0.99      0.98       892\n",
            "           6       0.99      0.99      0.99       958\n",
            "           7       0.98      0.98      0.98      1028\n",
            "           8       0.98      0.97      0.98       974\n",
            "           9       0.99      0.97      0.98      1009\n",
            "\n",
            "    accuracy                           0.98     10000\n",
            "   macro avg       0.98      0.98      0.98     10000\n",
            "weighted avg       0.98      0.98      0.98     10000\n",
            "\n"
          ],
          "name": "stdout"
        }
      ]
    },
    {
      "cell_type": "code",
      "metadata": {
        "id": "S8UA2w5vToYG",
        "colab_type": "code",
        "colab": {
          "base_uri": "https://localhost:8080/",
          "height": 299
        },
        "outputId": "ac0530bf-d970-40f9-f1d3-c69b668fae11"
      },
      "source": [
        "import matplotlib.pyplot as plt\n",
        "plt.style.use(\"ggplot\")\n",
        "plt.figure()\n",
        "plt.plot(np.arange(0, 20), H.history[\"loss\"], label=\"train_loss\")\n",
        "plt.plot(np.arange(0, 20), H.history[\"val_loss\"], label=\"val_loss\")\n",
        "plt.plot(np.arange(0, 20), H.history[\"accuracy\"], label=\"train_acc\")\n",
        "plt.plot(np.arange(0, 20), H.history[\"val_accuracy\"], label=\"val_acc\")\n",
        "plt.title(\"Training Loss and Accuracy\")\n",
        "plt.xlabel(\"Epoch #\")\n",
        "plt.ylabel(\"Loss/Accuracy\")\n",
        "plt.legend()\n",
        "plt.show()"
      ],
      "execution_count": 93,
      "outputs": [
        {
          "output_type": "display_data",
          "data": {
            "image/png": "[encoded data removed]",
            "text/plain": [
              "<Figure size 432x288 with 1 Axes>"
            ]
          },
          "metadata": {
            "tags": []
          }
        }
      ]
    },
    {
      "cell_type": "markdown",
      "metadata": {
        "id": "-xdlw1CHTrNN",
        "colab_type": "text"
      },
      "source": [
        "This plot demonstrating the loss and accuracy of LeNet on MNIST is arguably the quintessential\n",
        "graph we are looking for: the training and validation loss and accuracy mimic each other (nearly) exactly with no signs of overfitting. It’s often very hard to obtain this type of training\n",
        "plot that behaves so nicely, indicating that our network is learning the underlying patterns without\n",
        "overfitting."
      ]
    }
  ]
}