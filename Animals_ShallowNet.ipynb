{
  "nbformat": 4,
  "nbformat_minor": 0,
  "metadata": {
    "colab": {
      "name": "Animals_ShallowNet.ipynb",
      "provenance": [],
      "collapsed_sections": [],
      "mount_file_id": "1oKpow1zE3ZKQk9gYg5AkNIaiukw027PO",
      "authorship_tag": "ABX9TyM2GKQtDNAZBrDJ1/u8k5VW",
      "include_colab_link": true
    },
    "kernelspec": {
      "name": "python3",
      "display_name": "Python 3"
    },
    "accelerator": "TPU"
  },
  "cells": [
    {
      "cell_type": "markdown",
      "metadata": {
        "id": "view-in-github",
        "colab_type": "text"
      },
      "source": [
        "<a href=\"https://colab.research.google.com/github/yashraj02/CNN-Animals_Classification/blob/master/Animals_ShallowNet.ipynb\" target=\"_parent\"><img src=\"https://colab.research.google.com/assets/colab-badge.svg\" alt=\"Open In Colab\"/></a>"
      ]
    },
    {
      "cell_type": "code",
      "metadata": {
        "id": "j4hubfcExAGT",
        "colab_type": "code",
        "colab": {}
      },
      "source": [
        "import numpy as np\n",
        "import cv2 as cv\n",
        "import os\n",
        "\n",
        "from sklearn.preprocessing import LabelEncoder\n",
        "from sklearn.model_selection import train_test_split\n",
        "from sklearn.metrics import classification_report\n",
        "from imutils import paths\n",
        "\n",
        "from keras.models import Sequential\n",
        "from keras.layers import Conv2D,Activation,Flatten,Dense\n",
        "\n",
        "from sklearn.preprocessing import LabelBinarizer\n",
        "from sklearn.model_selection import train_test_split\n",
        "from sklearn.metrics import classification_report\n",
        "from keras.optimizers import SGD\n",
        "from imutils import paths\n",
        "import matplotlib.pyplot as plt\n",
        "from keras.preprocessing.image import img_to_array"
      ],
      "execution_count": 0,
      "outputs": []
    },
    {
      "cell_type": "code",
      "metadata": {
        "id": "HHikrD_xwxOO",
        "colab_type": "code",
        "colab": {}
      },
      "source": [
        "from keras.datasets import cifar10"
      ],
      "execution_count": 0,
      "outputs": []
    },
    {
      "cell_type": "code",
      "metadata": {
        "id": "N3cKoZ-w-ZVB",
        "colab_type": "code",
        "colab": {}
      },
      "source": [
        "def shallowNet_model(width,height,depth,classes):\n",
        "  print(width,height,depth,classes)\n",
        "  model = Sequential()\n",
        "  model.add(Conv2D(32,(3,3),padding='same',input_shape=(height,width,depth)))\n",
        "  model.add(Activation('relu'))\n",
        "  \n",
        "  model.add(Flatten())\n",
        "  model.add(Dense(classes))\n",
        "  model.add(Activation('softmax'))\n",
        "  \n",
        "  return model"
      ],
      "execution_count": 0,
      "outputs": []
    },
    {
      "cell_type": "code",
      "metadata": {
        "id": "A9YE3-vdSnut",
        "colab_type": "code",
        "colab": {}
      },
      "source": [
        "(x_train, y_train), (x_test, y_test) = cifar10.load_data()\n",
        "x_train = x_train.astype('float')/255.0\n",
        "x_test = x_test.astype('float')/255.0"
      ],
      "execution_count": 0,
      "outputs": []
    },
    {
      "cell_type": "code",
      "metadata": {
        "id": "kI59XWbacMWM",
        "colab_type": "code",
        "colab": {
          "base_uri": "https://localhost:8080/",
          "height": 33
        },
        "outputId": "698d4f7a-4cd5-4aa9-97c5-c0c1b2df3e40"
      },
      "source": [
        "print(y_train.shape, y_test.shape)"
      ],
      "execution_count": 87,
      "outputs": [
        {
          "output_type": "stream",
          "text": [
            "(50000, 1) (10000, 1)\n"
          ],
          "name": "stdout"
        }
      ]
    },
    {
      "cell_type": "code",
      "metadata": {
        "id": "ffueMCbaBYOE",
        "colab_type": "code",
        "colab": {}
      },
      "source": [
        "lb = LabelBinarizer()\n",
        "y_train = lb.fit_transform(y_train)\n",
        "y_test = lb.transform(y_test)"
      ],
      "execution_count": 0,
      "outputs": []
    },
    {
      "cell_type": "code",
      "metadata": {
        "id": "4wCSxtIKDuYg",
        "colab_type": "code",
        "colab": {
          "base_uri": "https://localhost:8080/",
          "height": 1000
        },
        "outputId": "1824c3a5-f509-486d-dac2-e7ab171dd31f"
      },
      "source": [
        "print(\"[INFO] compiling model...\")\n",
        "opti = SGD(lr=0.01)\n",
        "model = shallowNet_model(32,32,3,10)\n",
        "model.compile(loss=\"categorical_crossentropy\", optimizer=opti, metrics=['accuracy'])\n",
        "\n",
        "print(\"[INFO] Training the Network...\")\n",
        "H = model.fit(x_train, y_train, validation_data=(x_test,y_test), epochs=40, batch_size=32 ,verbose=1)"
      ],
      "execution_count": 90,
      "outputs": [
        {
          "output_type": "stream",
          "text": [
            "[INFO] compiling model...\n",
            "32 32 3 10\n",
            "[INFO] Training the Network...\n",
            "Train on 50000 samples, validate on 10000 samples\n",
            "Epoch 1/40\n",
            "50000/50000 [==============================] - 44s 871us/step - loss: 1.7922 - accuracy: 0.3721 - val_loss: 1.6734 - val_accuracy: 0.4052\n",
            "Epoch 2/40\n",
            "50000/50000 [==============================] - 44s 872us/step - loss: 1.5260 - accuracy: 0.4681 - val_loss: 1.4216 - val_accuracy: 0.5059\n",
            "Epoch 3/40\n",
            "50000/50000 [==============================] - 44s 883us/step - loss: 1.3826 - accuracy: 0.5160 - val_loss: 1.3816 - val_accuracy: 0.5043\n",
            "Epoch 4/40\n",
            "50000/50000 [==============================] - 43s 866us/step - loss: 1.2995 - accuracy: 0.5437 - val_loss: 1.3431 - val_accuracy: 0.5151\n",
            "Epoch 5/40\n",
            "50000/50000 [==============================] - 44s 876us/step - loss: 1.2473 - accuracy: 0.5644 - val_loss: 1.4034 - val_accuracy: 0.5210\n",
            "Epoch 6/40\n",
            "50000/50000 [==============================] - 43s 863us/step - loss: 1.2108 - accuracy: 0.5780 - val_loss: 1.3399 - val_accuracy: 0.5264\n",
            "Epoch 7/40\n",
            "50000/50000 [==============================] - 44s 888us/step - loss: 1.1762 - accuracy: 0.5879 - val_loss: 1.2495 - val_accuracy: 0.5624\n",
            "Epoch 8/40\n",
            "50000/50000 [==============================] - 48s 963us/step - loss: 1.1456 - accuracy: 0.6019 - val_loss: 1.3561 - val_accuracy: 0.5223\n",
            "Epoch 9/40\n",
            "50000/50000 [==============================] - 46s 922us/step - loss: 1.1197 - accuracy: 0.6131 - val_loss: 1.2452 - val_accuracy: 0.5552\n",
            "Epoch 10/40\n",
            "50000/50000 [==============================] - 45s 892us/step - loss: 1.0931 - accuracy: 0.6198 - val_loss: 1.2016 - val_accuracy: 0.5749\n",
            "Epoch 11/40\n",
            "50000/50000 [==============================] - 44s 876us/step - loss: 1.0676 - accuracy: 0.6303 - val_loss: 1.2988 - val_accuracy: 0.5446\n",
            "Epoch 12/40\n",
            "50000/50000 [==============================] - 44s 881us/step - loss: 1.0476 - accuracy: 0.6369 - val_loss: 1.2508 - val_accuracy: 0.5629\n",
            "Epoch 13/40\n",
            "50000/50000 [==============================] - 44s 878us/step - loss: 1.0236 - accuracy: 0.6439 - val_loss: 1.2269 - val_accuracy: 0.5665\n",
            "Epoch 14/40\n",
            "50000/50000 [==============================] - 44s 884us/step - loss: 1.0055 - accuracy: 0.6500 - val_loss: 1.2584 - val_accuracy: 0.5637\n",
            "Epoch 15/40\n",
            "50000/50000 [==============================] - 44s 884us/step - loss: 0.9828 - accuracy: 0.6595 - val_loss: 1.1825 - val_accuracy: 0.5839\n",
            "Epoch 16/40\n",
            "50000/50000 [==============================] - 43s 869us/step - loss: 0.9663 - accuracy: 0.6648 - val_loss: 1.1807 - val_accuracy: 0.5909\n",
            "Epoch 17/40\n",
            "50000/50000 [==============================] - 45s 898us/step - loss: 0.9503 - accuracy: 0.6718 - val_loss: 1.2224 - val_accuracy: 0.5828\n",
            "Epoch 18/40\n",
            "50000/50000 [==============================] - 46s 914us/step - loss: 0.9337 - accuracy: 0.6757 - val_loss: 1.1833 - val_accuracy: 0.5859\n",
            "Epoch 19/40\n",
            "50000/50000 [==============================] - 45s 896us/step - loss: 0.9195 - accuracy: 0.6813 - val_loss: 1.2800 - val_accuracy: 0.5729\n",
            "Epoch 20/40\n",
            "50000/50000 [==============================] - 44s 889us/step - loss: 0.9035 - accuracy: 0.6860 - val_loss: 1.3188 - val_accuracy: 0.5485\n",
            "Epoch 21/40\n",
            "50000/50000 [==============================] - 45s 902us/step - loss: 0.8884 - accuracy: 0.6912 - val_loss: 1.2671 - val_accuracy: 0.5693\n",
            "Epoch 22/40\n",
            "50000/50000 [==============================] - 47s 945us/step - loss: 0.8769 - accuracy: 0.6950 - val_loss: 1.3184 - val_accuracy: 0.5484\n",
            "Epoch 23/40\n",
            "50000/50000 [==============================] - 44s 886us/step - loss: 0.8629 - accuracy: 0.7013 - val_loss: 1.2095 - val_accuracy: 0.5867\n",
            "Epoch 24/40\n",
            "50000/50000 [==============================] - 44s 886us/step - loss: 0.8481 - accuracy: 0.7080 - val_loss: 1.2327 - val_accuracy: 0.5735\n",
            "Epoch 25/40\n",
            "50000/50000 [==============================] - 44s 883us/step - loss: 0.8368 - accuracy: 0.7111 - val_loss: 1.2538 - val_accuracy: 0.5868\n",
            "Epoch 26/40\n",
            "50000/50000 [==============================] - 45s 894us/step - loss: 0.8251 - accuracy: 0.7156 - val_loss: 1.1678 - val_accuracy: 0.6028\n",
            "Epoch 27/40\n",
            "50000/50000 [==============================] - 44s 872us/step - loss: 0.8107 - accuracy: 0.7207 - val_loss: 1.1829 - val_accuracy: 0.5978\n",
            "Epoch 28/40\n",
            "50000/50000 [==============================] - 44s 886us/step - loss: 0.8011 - accuracy: 0.7235 - val_loss: 1.2962 - val_accuracy: 0.5628\n",
            "Epoch 29/40\n",
            "50000/50000 [==============================] - 45s 894us/step - loss: 0.7887 - accuracy: 0.7281 - val_loss: 1.2333 - val_accuracy: 0.5867\n",
            "Epoch 30/40\n",
            "50000/50000 [==============================] - 44s 890us/step - loss: 0.7783 - accuracy: 0.7305 - val_loss: 1.2183 - val_accuracy: 0.5851\n",
            "Epoch 31/40\n",
            "50000/50000 [==============================] - 44s 880us/step - loss: 0.7665 - accuracy: 0.7348 - val_loss: 1.4343 - val_accuracy: 0.5394\n",
            "Epoch 32/40\n",
            "50000/50000 [==============================] - 44s 888us/step - loss: 0.7556 - accuracy: 0.7391 - val_loss: 1.2425 - val_accuracy: 0.5771\n",
            "Epoch 33/40\n",
            "50000/50000 [==============================] - 44s 880us/step - loss: 0.7444 - accuracy: 0.7434 - val_loss: 1.2629 - val_accuracy: 0.5837\n",
            "Epoch 34/40\n",
            "50000/50000 [==============================] - 45s 892us/step - loss: 0.7349 - accuracy: 0.7469 - val_loss: 1.2297 - val_accuracy: 0.5882\n",
            "Epoch 35/40\n",
            "50000/50000 [==============================] - 47s 948us/step - loss: 0.7255 - accuracy: 0.7489 - val_loss: 1.2252 - val_accuracy: 0.5974\n",
            "Epoch 36/40\n",
            "50000/50000 [==============================] - 45s 895us/step - loss: 0.7157 - accuracy: 0.7549 - val_loss: 1.2652 - val_accuracy: 0.5758\n",
            "Epoch 37/40\n",
            "50000/50000 [==============================] - 45s 897us/step - loss: 0.7035 - accuracy: 0.7583 - val_loss: 1.3724 - val_accuracy: 0.5693\n",
            "Epoch 38/40\n",
            "50000/50000 [==============================] - 43s 861us/step - loss: 0.6936 - accuracy: 0.7607 - val_loss: 1.3103 - val_accuracy: 0.5866\n",
            "Epoch 39/40\n",
            "50000/50000 [==============================] - 43s 869us/step - loss: 0.6844 - accuracy: 0.7654 - val_loss: 1.2559 - val_accuracy: 0.5934\n",
            "Epoch 40/40\n",
            "50000/50000 [==============================] - 44s 885us/step - loss: 0.6712 - accuracy: 0.7684 - val_loss: 1.2742 - val_accuracy: 0.5865\n"
          ],
          "name": "stdout"
        }
      ]
    },
    {
      "cell_type": "code",
      "metadata": {
        "id": "-icVkYH2JLrt",
        "colab_type": "code",
        "colab": {
          "base_uri": "https://localhost:8080/",
          "height": 317
        },
        "outputId": "570a0a02-4050-4730-b5e0-488e23412b6b"
      },
      "source": [
        "print(\"[INFO] evaulating network...\")\n",
        "predictions = model.predict(x_test,batch_size=32)\n",
        "print(classification_report(y_test.argmax(axis=1),predictions.argmax(axis=1),target_names=[\"airplane\", \"automobile\", \"bird\", \"cat\", \"deer\",\n",
        "                                                                                           \"dog\", \"frog\", \"horse\", \"ship\", \"truck\"]))"
      ],
      "execution_count": 91,
      "outputs": [
        {
          "output_type": "stream",
          "text": [
            "[INFO] evaulating network...\n",
            "              precision    recall  f1-score   support\n",
            "\n",
            "    airplane       0.69      0.61      0.65      1000\n",
            "  automobile       0.80      0.62      0.70      1000\n",
            "        bird       0.53      0.31      0.39      1000\n",
            "         cat       0.33      0.63      0.43      1000\n",
            "        deer       0.54      0.52      0.53      1000\n",
            "         dog       0.47      0.52      0.49      1000\n",
            "        frog       0.75      0.56      0.64      1000\n",
            "       horse       0.72      0.62      0.67      1000\n",
            "        ship       0.72      0.77      0.74      1000\n",
            "       truck       0.65      0.71      0.68      1000\n",
            "\n",
            "    accuracy                           0.59     10000\n",
            "   macro avg       0.62      0.59      0.59     10000\n",
            "weighted avg       0.62      0.59      0.59     10000\n",
            "\n"
          ],
          "name": "stdout"
        }
      ]
    },
    {
      "cell_type": "code",
      "metadata": {
        "id": "4OrWY_LSKTl-",
        "colab_type": "code",
        "colab": {
          "base_uri": "https://localhost:8080/",
          "height": 299
        },
        "outputId": "fee9306f-a274-46a0-a142-d2161134cc13"
      },
      "source": [
        "import matplotlib.pyplot as plt\n",
        "plt.style.use(\"ggplot\")\n",
        "plt.figure()\n",
        "plt.plot(np.arange(0, 40), H.history[\"loss\"], label=\"train_loss\")\n",
        "plt.plot(np.arange(0, 40), H.history[\"val_loss\"], label=\"val_loss\")\n",
        "plt.plot(np.arange(0, 40), H.history[\"accuracy\"], label=\"train_acc\")\n",
        "plt.plot(np.arange(0, 40), H.history[\"val_accuracy\"], label=\"val_acc\")\n",
        "plt.title(\"Training Loss and Accuracy\")\n",
        "plt.xlabel(\"Epoch #\")\n",
        "plt.ylabel(\"Loss/Accuracy\")\n",
        "plt.legend()\n",
        "plt.show()"
      ],
      "execution_count": 93,
      "outputs": [
        {
          "output_type": "display_data",
          "data": {
            "image/png": "[encoded data removed]",
            "text/plain": [
              "<Figure size 432x288 with 1 Axes>"
            ]
          },
          "metadata": {
            "tags": []
          }
        }
      ]
    },
    {
      "cell_type": "markdown",
      "metadata": {
        "id": "qopMMoP7XtEz",
        "colab_type": "text"
      },
      "source": [
        "**Conclusion:**\n",
        "#  Our training and testing loss/accuracy start to diverge past epoch 10.\n",
        "#  Again, this can be attributed to a larger learning rate and the fact we aren’t using methods to help combat overfitting (regularization parameters, dropout, data augmentation, etc.)."
      ]
    },
    {
      "cell_type": "code",
      "metadata": {
        "id": "g-To-zkjX_4H",
        "colab_type": "code",
        "colab": {}
      },
      "source": [
        ""
      ],
      "execution_count": 0,
      "outputs": []
    }
  ]
}